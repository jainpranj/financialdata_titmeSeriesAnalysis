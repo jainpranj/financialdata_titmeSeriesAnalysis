{
 "cells": [
  {
   "cell_type": "code",
   "execution_count": 6,
   "metadata": {
    "collapsed": false
   },
   "outputs": [],
   "source": [
    "from io import StringIO\n",
    "import requests\n",
    "import json\n",
    "import pandas as pd\n",
    "import numpy as np\n",
    "#!pip install quandl\n",
    "import quandl"
   ]
  },
  {
   "cell_type": "code",
   "execution_count": 7,
   "metadata": {
    "collapsed": true
   },
   "outputs": [],
   "source": [
    "from sklearn.preprocessing import LabelEncoder\n",
    "\n",
    "#using label encoder to convert categorical columns into numeric values\n",
    "def dummyEncode(df):\n",
    "        columnsToEncode = list(df)\n",
    "        le = LabelEncoder()\n",
    "        for feature in columnsToEncode:\n",
    "            try:\n",
    "                df[feature] = le.fit_transform(df[feature])\n",
    "            except:\n",
    "                print('Error encoding '+feature)\n",
    "        return df"
   ]
  },
  {
   "cell_type": "markdown",
   "metadata": {},
   "source": [
    "# Fetch Data"
   ]
  },
  {
   "cell_type": "code",
   "execution_count": 14,
   "metadata": {
    "collapsed": true
   },
   "outputs": [],
   "source": [
    "snp=quandl.get(\"YAHOO/INDEX_GSPC\",start_date=\"1-1-2010 \", end_date=\"12-1-2015\")\n",
    "snp=snp[['Close']]\n",
    "nyse=quandl.get(\"YAHOO/INDEX_NY\",start_date=\"1-1-2010 \", end_date=\"12-1-2015\")\n",
    "nyse=nyse[['Close']]\n",
    "djia=quandl.get(\"YAHOO/INDEX_DJI\",start_date=\"1-1-2010 \", end_date=\"12-1-2015\")\n",
    "djia=djia[['Close']]\n",
    "nikkei=quandl.get(\"YAHOO/INDEX_N225\",start_date=\"1-1-2010 \", end_date=\"12-1-2015\")\n",
    "nikkei=nikkei[['Close']]\n",
    "hangseng=quandl.get(\"YAHOO/INDEX_HSI\",start_date=\"1-1-2010 \", end_date=\"12-1-2015\")\n",
    "hangseng=hangseng[['Close']]\n",
    "ftse=quandl.get(\"YAHOO/BE_UKX\",start_date=\"1-1-2010 \", end_date=\"12-1-2015\")\n",
    "ftse=ftse[['Close']]\n",
    "dax=quandl.get(\"YAHOO/INDEX_GDAXI\",start_date=\"1-1-2010 \", end_date=\"12-1-2015\")\n",
    "dax=dax[['Close']]\n",
    "aord=quandl.get(\"YAHOO/INDEX_AORD\",start_date=\"1-1-2010 \", end_date=\"12-1-2015\")\n",
    "aord=aord[['Close']]"
   ]
  },
  {
   "cell_type": "code",
   "execution_count": 15,
   "metadata": {
    "collapsed": true
   },
   "outputs": [],
   "source": [
    "closing_data = pd.DataFrame()\n",
    "\n",
    "closing_data['snp_close'] = snp['Close']\n",
    "closing_data['nyse_close'] = nyse['Close']\n",
    "closing_data['djia_close'] = djia['Close']\n",
    "closing_data['nikkei_close'] = nikkei['Close']\n",
    "closing_data['hangseng_close'] = hangseng['Close']\n",
    "closing_data['ftse_close'] = ftse['Close']\n",
    "closing_data['dax_close'] = dax['Close']\n",
    "closing_data['aord_close'] = aord['Close']\n",
    "\n",
    "# Pandas includes a very convenient function for filling gaps in the data.\n",
    "closing_data = closing_data.fillna(method='ffill')"
   ]
  },
  {
   "cell_type": "markdown",
   "metadata": {},
   "source": [
    "# Applying label Encoding. Predicting close price for S&P 100 based on other markets"
   ]
  },
  {
   "cell_type": "code",
   "execution_count": 18,
   "metadata": {
    "collapsed": false
   },
   "outputs": [
    {
     "name": "stdout",
     "output_type": "stream",
     "text": [
      "            nyse_close  djia_close  nikkei_close  hangseng_close  ftse_close  \\\n",
      "Date                                                                           \n",
      "2010-01-04         157         115           664             529          18   \n",
      "2010-01-05         165         112           668             627           2   \n",
      "2010-01-06         170         114           675             658           3   \n",
      "2010-01-07         191         118           667             622           4   \n",
      "2010-01-08         195         122           685             633           5   \n",
      "\n",
      "            dax_close  aord_close  \n",
      "Date                               \n",
      "2010-01-04        191         670  \n",
      "2010-01-05        180         721  \n",
      "2010-01-06        181         729  \n",
      "2010-01-07        176         715  \n",
      "2010-01-08        184         725  \n"
     ]
    }
   ],
   "source": [
    "from sklearn.model_selection import train_test_split\n",
    "from sklearn.model_selection import cross_val_score\n",
    "from sklearn.linear_model import LinearRegression\n",
    "\n",
    "df=closing_data.copy()\n",
    "\n",
    "df=dummyEncode(df)\n",
    "\n",
    "\n",
    "Y=df['snp_close']\n",
    "df.drop('snp_close', axis=1, inplace=True)\n",
    "X=df\n",
    "print(X.head())"
   ]
  },
  {
   "cell_type": "markdown",
   "metadata": {},
   "source": [
    "# Applying sklearn linear regression, keeping 20% data as test data"
   ]
  },
  {
   "cell_type": "code",
   "execution_count": 19,
   "metadata": {
    "collapsed": false
   },
   "outputs": [
    {
     "name": "stdout",
     "output_type": "stream",
     "text": [
      "Starting Linear Regression algorithm\n",
      "Intercept is  -2.77383299422\n",
      "Coefficient is  [ 0.58615019  0.41452771  0.00332508  0.00485768 -0.90867303  0.00455414\n",
      " -0.01052666]\n",
      "Training score is  0.998436423087\n",
      "Testing score is  0.998193775908\n"
     ]
    }
   ],
   "source": [
    "X_train, X_test, Y_train, Y_test= train_test_split(X, Y, test_size=0.2)\n",
    "\n",
    "print(\"Starting Linear Regression algorithm\")\n",
    "linear_reg = LinearRegression()\n",
    "fit=linear_reg.fit(X_train, Y_train)\n",
    "\n",
    "print (\"Intercept is \",linear_reg.intercept_)\n",
    "print(\"Coefficient is \",linear_reg.coef_)\n",
    "\n",
    "print(\"Training score is \",linear_reg.score(X_train, Y_train))\n",
    "\n",
    "print(\"Testing score is \",linear_reg.score(X_test, Y_test))"
   ]
  },
  {
   "cell_type": "code",
   "execution_count": null,
   "metadata": {
    "collapsed": true
   },
   "outputs": [],
   "source": []
  }
 ],
 "metadata": {
  "kernelspec": {
   "display_name": "Python 3.5 (Experimental) with Spark 2.1",
   "language": "python",
   "name": "python3-spark21"
  },
  "language_info": {
   "codemirror_mode": {
    "name": "ipython",
    "version": 3
   },
   "file_extension": ".py",
   "mimetype": "text/x-python",
   "name": "python",
   "nbconvert_exporter": "python",
   "pygments_lexer": "ipython3",
   "version": "3.5.2"
  }
 },
 "nbformat": 4,
 "nbformat_minor": 0
}